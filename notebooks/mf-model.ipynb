{
 "cells": [
  {
   "cell_type": "code",
   "outputs": [],
   "source": [
    "import pandas as pd"
   ],
   "metadata": {
    "collapsed": false,
    "ExecuteTime": {
     "end_time": "2024-08-29T14:32:57.381609Z",
     "start_time": "2024-08-29T14:32:57.371478Z"
    }
   },
   "id": "587e1e02cde5fbfa",
   "execution_count": 16
  },
  {
   "cell_type": "code",
   "outputs": [],
   "source": [
    "# Load the sample dataset\n",
    "file_path = '../data/sampled_data.csv'\n",
    "data = pd.read_csv(file_path)"
   ],
   "metadata": {
    "collapsed": true,
    "ExecuteTime": {
     "end_time": "2024-08-29T14:32:59.745794Z",
     "start_time": "2024-08-29T14:32:57.677373Z"
    }
   },
   "id": "initial_id",
   "execution_count": 17
  },
  {
   "cell_type": "code",
   "outputs": [
    {
     "name": "stdout",
     "output_type": "stream",
     "text": [
      "There are 1432660 rows in the dataset\n"
     ]
    }
   ],
   "source": [
    "print('There are {} rows in the dataset'.format(len(data)))"
   ],
   "metadata": {
    "collapsed": false,
    "ExecuteTime": {
     "end_time": "2024-08-29T14:32:59.761890Z",
     "start_time": "2024-08-29T14:32:59.752736Z"
    }
   },
   "id": "ab69512a4d14fb0b",
   "execution_count": 18
  },
  {
   "cell_type": "code",
   "outputs": [
    {
     "data": {
      "text/plain": "         genre_id   ts_listen   media_id  album_id  context_type  \\\n0               7  1480241095     789250     92314             1   \n1              77  1479052547   93477522   9495176             0   \n2               0  1479583581  120791740  12606392             0   \n3               7  1479496255   67238735   6575789             0   \n4              10  1479659993     910341    102632            11   \n...           ...         ...        ...       ...           ...   \n1432655         0  1479566555  125651234  13216890             0   \n1432656       297  1478281078   69686461   6830452             1   \n1432657         7  1479313227    4624032    425367             0   \n1432658         7  1480209632    3099791    299887             0   \n1432659     26851  1477960233    3018457    292326            13   \n\n         release_date  platform_name  platform_family  media_duration  \\\n0            20051111              0                0             228   \n1            20150119              0                0             212   \n2            20160311              0                0             236   \n3            20130517              0                0             367   \n4            20060925              2                1             218   \n...               ...            ...              ...             ...   \n1432655      20160603              0                0             214   \n1432656      20130823              0                0             279   \n1432657      20091109              0                0             345   \n1432658      20021231              0                0             227   \n1432659      20090330              0                0             321   \n\n         listen_type  user_gender  user_id  artist_id  user_age  is_listened  \\\n0                  1            1     9620        177        26            0   \n1                  0            1      209    8135114        27            1   \n2                  0            0     4945    1435566        25            0   \n3                  0            0     2510         27        29            0   \n4                  0            0     5442       1172        21            1   \n...              ...          ...      ...        ...       ...          ...   \n1432655            0            1     7060      92773        22            0   \n1432656            1            0     2348      12294        29            0   \n1432657            0            0     2109        106        21            1   \n1432658            0            1     3462      17236        21            1   \n1432659            1            1     3612      17295        19            0   \n\n         ts_listen_year  ts_listen_month  release_year  \n0                  2016               11          2005  \n1                  2016               11          2015  \n2                  2016               11          2016  \n3                  2016               11          2013  \n4                  2016               11          2006  \n...                 ...              ...           ...  \n1432655            2016               11          2016  \n1432656            2016               11          2013  \n1432657            2016               11          2009  \n1432658            2016               11          2002  \n1432659            2016               11          2009  \n\n[1432660 rows x 18 columns]",
      "text/html": "<div>\n<style scoped>\n    .dataframe tbody tr th:only-of-type {\n        vertical-align: middle;\n    }\n\n    .dataframe tbody tr th {\n        vertical-align: top;\n    }\n\n    .dataframe thead th {\n        text-align: right;\n    }\n</style>\n<table border=\"1\" class=\"dataframe\">\n  <thead>\n    <tr style=\"text-align: right;\">\n      <th></th>\n      <th>genre_id</th>\n      <th>ts_listen</th>\n      <th>media_id</th>\n      <th>album_id</th>\n      <th>context_type</th>\n      <th>release_date</th>\n      <th>platform_name</th>\n      <th>platform_family</th>\n      <th>media_duration</th>\n      <th>listen_type</th>\n      <th>user_gender</th>\n      <th>user_id</th>\n      <th>artist_id</th>\n      <th>user_age</th>\n      <th>is_listened</th>\n      <th>ts_listen_year</th>\n      <th>ts_listen_month</th>\n      <th>release_year</th>\n    </tr>\n  </thead>\n  <tbody>\n    <tr>\n      <th>0</th>\n      <td>7</td>\n      <td>1480241095</td>\n      <td>789250</td>\n      <td>92314</td>\n      <td>1</td>\n      <td>20051111</td>\n      <td>0</td>\n      <td>0</td>\n      <td>228</td>\n      <td>1</td>\n      <td>1</td>\n      <td>9620</td>\n      <td>177</td>\n      <td>26</td>\n      <td>0</td>\n      <td>2016</td>\n      <td>11</td>\n      <td>2005</td>\n    </tr>\n    <tr>\n      <th>1</th>\n      <td>77</td>\n      <td>1479052547</td>\n      <td>93477522</td>\n      <td>9495176</td>\n      <td>0</td>\n      <td>20150119</td>\n      <td>0</td>\n      <td>0</td>\n      <td>212</td>\n      <td>0</td>\n      <td>1</td>\n      <td>209</td>\n      <td>8135114</td>\n      <td>27</td>\n      <td>1</td>\n      <td>2016</td>\n      <td>11</td>\n      <td>2015</td>\n    </tr>\n    <tr>\n      <th>2</th>\n      <td>0</td>\n      <td>1479583581</td>\n      <td>120791740</td>\n      <td>12606392</td>\n      <td>0</td>\n      <td>20160311</td>\n      <td>0</td>\n      <td>0</td>\n      <td>236</td>\n      <td>0</td>\n      <td>0</td>\n      <td>4945</td>\n      <td>1435566</td>\n      <td>25</td>\n      <td>0</td>\n      <td>2016</td>\n      <td>11</td>\n      <td>2016</td>\n    </tr>\n    <tr>\n      <th>3</th>\n      <td>7</td>\n      <td>1479496255</td>\n      <td>67238735</td>\n      <td>6575789</td>\n      <td>0</td>\n      <td>20130517</td>\n      <td>0</td>\n      <td>0</td>\n      <td>367</td>\n      <td>0</td>\n      <td>0</td>\n      <td>2510</td>\n      <td>27</td>\n      <td>29</td>\n      <td>0</td>\n      <td>2016</td>\n      <td>11</td>\n      <td>2013</td>\n    </tr>\n    <tr>\n      <th>4</th>\n      <td>10</td>\n      <td>1479659993</td>\n      <td>910341</td>\n      <td>102632</td>\n      <td>11</td>\n      <td>20060925</td>\n      <td>2</td>\n      <td>1</td>\n      <td>218</td>\n      <td>0</td>\n      <td>0</td>\n      <td>5442</td>\n      <td>1172</td>\n      <td>21</td>\n      <td>1</td>\n      <td>2016</td>\n      <td>11</td>\n      <td>2006</td>\n    </tr>\n    <tr>\n      <th>...</th>\n      <td>...</td>\n      <td>...</td>\n      <td>...</td>\n      <td>...</td>\n      <td>...</td>\n      <td>...</td>\n      <td>...</td>\n      <td>...</td>\n      <td>...</td>\n      <td>...</td>\n      <td>...</td>\n      <td>...</td>\n      <td>...</td>\n      <td>...</td>\n      <td>...</td>\n      <td>...</td>\n      <td>...</td>\n      <td>...</td>\n    </tr>\n    <tr>\n      <th>1432655</th>\n      <td>0</td>\n      <td>1479566555</td>\n      <td>125651234</td>\n      <td>13216890</td>\n      <td>0</td>\n      <td>20160603</td>\n      <td>0</td>\n      <td>0</td>\n      <td>214</td>\n      <td>0</td>\n      <td>1</td>\n      <td>7060</td>\n      <td>92773</td>\n      <td>22</td>\n      <td>0</td>\n      <td>2016</td>\n      <td>11</td>\n      <td>2016</td>\n    </tr>\n    <tr>\n      <th>1432656</th>\n      <td>297</td>\n      <td>1478281078</td>\n      <td>69686461</td>\n      <td>6830452</td>\n      <td>1</td>\n      <td>20130823</td>\n      <td>0</td>\n      <td>0</td>\n      <td>279</td>\n      <td>1</td>\n      <td>0</td>\n      <td>2348</td>\n      <td>12294</td>\n      <td>29</td>\n      <td>0</td>\n      <td>2016</td>\n      <td>11</td>\n      <td>2013</td>\n    </tr>\n    <tr>\n      <th>1432657</th>\n      <td>7</td>\n      <td>1479313227</td>\n      <td>4624032</td>\n      <td>425367</td>\n      <td>0</td>\n      <td>20091109</td>\n      <td>0</td>\n      <td>0</td>\n      <td>345</td>\n      <td>0</td>\n      <td>0</td>\n      <td>2109</td>\n      <td>106</td>\n      <td>21</td>\n      <td>1</td>\n      <td>2016</td>\n      <td>11</td>\n      <td>2009</td>\n    </tr>\n    <tr>\n      <th>1432658</th>\n      <td>7</td>\n      <td>1480209632</td>\n      <td>3099791</td>\n      <td>299887</td>\n      <td>0</td>\n      <td>20021231</td>\n      <td>0</td>\n      <td>0</td>\n      <td>227</td>\n      <td>0</td>\n      <td>1</td>\n      <td>3462</td>\n      <td>17236</td>\n      <td>21</td>\n      <td>1</td>\n      <td>2016</td>\n      <td>11</td>\n      <td>2002</td>\n    </tr>\n    <tr>\n      <th>1432659</th>\n      <td>26851</td>\n      <td>1477960233</td>\n      <td>3018457</td>\n      <td>292326</td>\n      <td>13</td>\n      <td>20090330</td>\n      <td>0</td>\n      <td>0</td>\n      <td>321</td>\n      <td>1</td>\n      <td>1</td>\n      <td>3612</td>\n      <td>17295</td>\n      <td>19</td>\n      <td>0</td>\n      <td>2016</td>\n      <td>11</td>\n      <td>2009</td>\n    </tr>\n  </tbody>\n</table>\n<p>1432660 rows × 18 columns</p>\n</div>"
     },
     "execution_count": 19,
     "metadata": {},
     "output_type": "execute_result"
    }
   ],
   "source": [
    "data"
   ],
   "metadata": {
    "collapsed": false,
    "ExecuteTime": {
     "end_time": "2024-08-29T14:32:59.971706Z",
     "start_time": "2024-08-29T14:32:59.765907Z"
    }
   },
   "id": "642c65fc9e0f4709",
   "execution_count": 19
  },
  {
   "cell_type": "markdown",
   "source": [
    "To prepare data for matrix factorization using the Keras package, the dataset needs to be in a specific format that represents user-item interactions. The matrix factorization model typically expects the following format:\n",
    "\n",
    "User-Item Interaction Matrix:\n",
    "A matrix where rows represent users and columns represent items (e.g., songs), and the values represent the interaction between the user and the item (e.g., rating, play count, or a binary indicator if the item was played or skipped).\n"
   ],
   "metadata": {
    "collapsed": false
   },
   "id": "47f5291d912557e"
  },
  {
   "cell_type": "markdown",
   "source": [
    "## Step 1: Importing Libraries"
   ],
   "metadata": {
    "collapsed": false
   },
   "id": "858c75f9b95cc183"
  },
  {
   "cell_type": "code",
   "outputs": [],
   "source": [
    "import numpy as np\n",
    "import pandas as pd\n",
    "from sklearn.model_selection import train_test_split #split dataset into training and testing sets.\n",
    "from keras.models import Model #The core Keras class used to define the overall model.\n",
    "from keras.layers import Input, Embedding, Flatten, Concatenate, Dense, Dropout #Keras layers used to build the neural network.\n",
    "from keras.regularizers import l2 #Regularization technique to prevent overfitting by penalizing large weights.\n",
    "import tensorflow as tf #Lower-level operations"
   ],
   "metadata": {
    "collapsed": false,
    "ExecuteTime": {
     "end_time": "2024-08-29T14:33:03.932116Z",
     "start_time": "2024-08-29T14:33:03.924581Z"
    }
   },
   "id": "95641f3bc39bd01a",
   "execution_count": 20
  },
  {
   "cell_type": "code",
   "outputs": [
    {
     "name": "stdout",
     "output_type": "stream",
     "text": [
      "genre_id           int64\n",
      "ts_listen          int64\n",
      "media_id           int64\n",
      "album_id           int64\n",
      "context_type       int64\n",
      "release_date       int64\n",
      "platform_name      int64\n",
      "platform_family    int64\n",
      "media_duration     int64\n",
      "listen_type        int64\n",
      "user_gender        int64\n",
      "user_id            int64\n",
      "artist_id          int64\n",
      "user_age           int64\n",
      "is_listened        int64\n",
      "ts_listen_year     int64\n",
      "ts_listen_month    int64\n",
      "release_year       int64\n",
      "dtype: object\n"
     ]
    }
   ],
   "source": [
    "print(data.dtypes)"
   ],
   "metadata": {
    "collapsed": false,
    "ExecuteTime": {
     "end_time": "2024-08-29T14:33:04.505306Z",
     "start_time": "2024-08-29T14:33:04.497467Z"
    }
   },
   "id": "97aac0fbf46b2e27",
   "execution_count": 21
  },
  {
   "cell_type": "code",
   "outputs": [],
   "source": [
    "# Encoding categorical variables\n",
    "data['user_id'] = data['user_id'].astype('category').cat.codes.values\n",
    "data['media_id'] = data['media_id'].astype('category').cat.codes.values\n",
    "data['album_id'] = data['album_id'].astype('category').cat.codes.values\n",
    "data['artist_id'] = data['artist_id'].astype('category').cat.codes.values\n",
    "data['genre_id'] = data['genre_id'].astype('category').cat.codes.values\n",
    "data['platform_name'] = data['platform_name'].astype('category').cat.codes.values\n",
    "data['platform_family'] = data['platform_family'].astype('category').cat.codes.values\n",
    "data['context_type'] = data['context_type'].astype('category').cat.codes.values"
   ],
   "metadata": {
    "collapsed": false
   },
   "id": "221858a3d8f64d39"
  },
  {
   "cell_type": "code",
   "outputs": [
    {
     "name": "stdout",
     "output_type": "stream",
     "text": [
      "Epoch 1/5\n",
      "\u001B[1m  52/2239\u001B[0m \u001B[37m━━━━━━━━━━━━━━━━━━━━\u001B[0m \u001B[1m6:20\u001B[0m 174ms/step - accuracy: 0.5539 - loss: 558805.4375"
     ]
    },
    {
     "ename": "KeyboardInterrupt",
     "evalue": "",
     "output_type": "error",
     "traceback": [
      "\u001B[1;31m---------------------------------------------------------------------------\u001B[0m",
      "\u001B[1;31mKeyboardInterrupt\u001B[0m                         Traceback (most recent call last)",
      "Cell \u001B[1;32mIn[13], line 107\u001B[0m\n\u001B[0;32m    104\u001B[0m y_test \u001B[38;5;241m=\u001B[39m np\u001B[38;5;241m.\u001B[39marray(test[\u001B[38;5;124m'\u001B[39m\u001B[38;5;124mis_listened\u001B[39m\u001B[38;5;124m'\u001B[39m], dtype\u001B[38;5;241m=\u001B[39mnp\u001B[38;5;241m.\u001B[39mfloat32)\n\u001B[0;32m    106\u001B[0m \u001B[38;5;66;03m# Train the model\u001B[39;00m\n\u001B[1;32m--> 107\u001B[0m model\u001B[38;5;241m.\u001B[39mfit(X_train, y_train, epochs\u001B[38;5;241m=\u001B[39m\u001B[38;5;241m5\u001B[39m, batch_size\u001B[38;5;241m=\u001B[39m\u001B[38;5;241m512\u001B[39m, validation_data\u001B[38;5;241m=\u001B[39m(X_test, y_test))\n",
      "File \u001B[1;32m~\\anaconda3\\envs\\recommender-systems-project\\Lib\\site-packages\\keras\\src\\utils\\traceback_utils.py:117\u001B[0m, in \u001B[0;36mfilter_traceback.<locals>.error_handler\u001B[1;34m(*args, **kwargs)\u001B[0m\n\u001B[0;32m    115\u001B[0m filtered_tb \u001B[38;5;241m=\u001B[39m \u001B[38;5;28;01mNone\u001B[39;00m\n\u001B[0;32m    116\u001B[0m \u001B[38;5;28;01mtry\u001B[39;00m:\n\u001B[1;32m--> 117\u001B[0m     \u001B[38;5;28;01mreturn\u001B[39;00m fn(\u001B[38;5;241m*\u001B[39margs, \u001B[38;5;241m*\u001B[39m\u001B[38;5;241m*\u001B[39mkwargs)\n\u001B[0;32m    118\u001B[0m \u001B[38;5;28;01mexcept\u001B[39;00m \u001B[38;5;167;01mException\u001B[39;00m \u001B[38;5;28;01mas\u001B[39;00m e:\n\u001B[0;32m    119\u001B[0m     filtered_tb \u001B[38;5;241m=\u001B[39m _process_traceback_frames(e\u001B[38;5;241m.\u001B[39m__traceback__)\n",
      "File \u001B[1;32m~\\anaconda3\\envs\\recommender-systems-project\\Lib\\site-packages\\keras\\src\\backend\\tensorflow\\trainer.py:318\u001B[0m, in \u001B[0;36mTensorFlowTrainer.fit\u001B[1;34m(self, x, y, batch_size, epochs, verbose, callbacks, validation_split, validation_data, shuffle, class_weight, sample_weight, initial_epoch, steps_per_epoch, validation_steps, validation_batch_size, validation_freq)\u001B[0m\n\u001B[0;32m    316\u001B[0m \u001B[38;5;28;01mfor\u001B[39;00m step, iterator \u001B[38;5;129;01min\u001B[39;00m epoch_iterator\u001B[38;5;241m.\u001B[39menumerate_epoch():\n\u001B[0;32m    317\u001B[0m     callbacks\u001B[38;5;241m.\u001B[39mon_train_batch_begin(step)\n\u001B[1;32m--> 318\u001B[0m     logs \u001B[38;5;241m=\u001B[39m \u001B[38;5;28mself\u001B[39m\u001B[38;5;241m.\u001B[39mtrain_function(iterator)\n\u001B[0;32m    319\u001B[0m     logs \u001B[38;5;241m=\u001B[39m \u001B[38;5;28mself\u001B[39m\u001B[38;5;241m.\u001B[39m_pythonify_logs(logs)\n\u001B[0;32m    320\u001B[0m     callbacks\u001B[38;5;241m.\u001B[39mon_train_batch_end(step, logs)\n",
      "File \u001B[1;32m~\\anaconda3\\envs\\recommender-systems-project\\Lib\\site-packages\\tensorflow\\python\\util\\traceback_utils.py:150\u001B[0m, in \u001B[0;36mfilter_traceback.<locals>.error_handler\u001B[1;34m(*args, **kwargs)\u001B[0m\n\u001B[0;32m    148\u001B[0m filtered_tb \u001B[38;5;241m=\u001B[39m \u001B[38;5;28;01mNone\u001B[39;00m\n\u001B[0;32m    149\u001B[0m \u001B[38;5;28;01mtry\u001B[39;00m:\n\u001B[1;32m--> 150\u001B[0m   \u001B[38;5;28;01mreturn\u001B[39;00m fn(\u001B[38;5;241m*\u001B[39margs, \u001B[38;5;241m*\u001B[39m\u001B[38;5;241m*\u001B[39mkwargs)\n\u001B[0;32m    151\u001B[0m \u001B[38;5;28;01mexcept\u001B[39;00m \u001B[38;5;167;01mException\u001B[39;00m \u001B[38;5;28;01mas\u001B[39;00m e:\n\u001B[0;32m    152\u001B[0m   filtered_tb \u001B[38;5;241m=\u001B[39m _process_traceback_frames(e\u001B[38;5;241m.\u001B[39m__traceback__)\n",
      "File \u001B[1;32m~\\anaconda3\\envs\\recommender-systems-project\\Lib\\site-packages\\tensorflow\\python\\eager\\polymorphic_function\\polymorphic_function.py:833\u001B[0m, in \u001B[0;36mFunction.__call__\u001B[1;34m(self, *args, **kwds)\u001B[0m\n\u001B[0;32m    830\u001B[0m compiler \u001B[38;5;241m=\u001B[39m \u001B[38;5;124m\"\u001B[39m\u001B[38;5;124mxla\u001B[39m\u001B[38;5;124m\"\u001B[39m \u001B[38;5;28;01mif\u001B[39;00m \u001B[38;5;28mself\u001B[39m\u001B[38;5;241m.\u001B[39m_jit_compile \u001B[38;5;28;01melse\u001B[39;00m \u001B[38;5;124m\"\u001B[39m\u001B[38;5;124mnonXla\u001B[39m\u001B[38;5;124m\"\u001B[39m\n\u001B[0;32m    832\u001B[0m \u001B[38;5;28;01mwith\u001B[39;00m OptionalXlaContext(\u001B[38;5;28mself\u001B[39m\u001B[38;5;241m.\u001B[39m_jit_compile):\n\u001B[1;32m--> 833\u001B[0m   result \u001B[38;5;241m=\u001B[39m \u001B[38;5;28mself\u001B[39m\u001B[38;5;241m.\u001B[39m_call(\u001B[38;5;241m*\u001B[39margs, \u001B[38;5;241m*\u001B[39m\u001B[38;5;241m*\u001B[39mkwds)\n\u001B[0;32m    835\u001B[0m new_tracing_count \u001B[38;5;241m=\u001B[39m \u001B[38;5;28mself\u001B[39m\u001B[38;5;241m.\u001B[39mexperimental_get_tracing_count()\n\u001B[0;32m    836\u001B[0m without_tracing \u001B[38;5;241m=\u001B[39m (tracing_count \u001B[38;5;241m==\u001B[39m new_tracing_count)\n",
      "File \u001B[1;32m~\\anaconda3\\envs\\recommender-systems-project\\Lib\\site-packages\\tensorflow\\python\\eager\\polymorphic_function\\polymorphic_function.py:878\u001B[0m, in \u001B[0;36mFunction._call\u001B[1;34m(self, *args, **kwds)\u001B[0m\n\u001B[0;32m    875\u001B[0m \u001B[38;5;28mself\u001B[39m\u001B[38;5;241m.\u001B[39m_lock\u001B[38;5;241m.\u001B[39mrelease()\n\u001B[0;32m    876\u001B[0m \u001B[38;5;66;03m# In this case we have not created variables on the first call. So we can\u001B[39;00m\n\u001B[0;32m    877\u001B[0m \u001B[38;5;66;03m# run the first trace but we should fail if variables are created.\u001B[39;00m\n\u001B[1;32m--> 878\u001B[0m results \u001B[38;5;241m=\u001B[39m tracing_compilation\u001B[38;5;241m.\u001B[39mcall_function(\n\u001B[0;32m    879\u001B[0m     args, kwds, \u001B[38;5;28mself\u001B[39m\u001B[38;5;241m.\u001B[39m_variable_creation_config\n\u001B[0;32m    880\u001B[0m )\n\u001B[0;32m    881\u001B[0m \u001B[38;5;28;01mif\u001B[39;00m \u001B[38;5;28mself\u001B[39m\u001B[38;5;241m.\u001B[39m_created_variables:\n\u001B[0;32m    882\u001B[0m   \u001B[38;5;28;01mraise\u001B[39;00m \u001B[38;5;167;01mValueError\u001B[39;00m(\u001B[38;5;124m\"\u001B[39m\u001B[38;5;124mCreating variables on a non-first call to a function\u001B[39m\u001B[38;5;124m\"\u001B[39m\n\u001B[0;32m    883\u001B[0m                    \u001B[38;5;124m\"\u001B[39m\u001B[38;5;124m decorated with tf.function.\u001B[39m\u001B[38;5;124m\"\u001B[39m)\n",
      "File \u001B[1;32m~\\anaconda3\\envs\\recommender-systems-project\\Lib\\site-packages\\tensorflow\\python\\eager\\polymorphic_function\\tracing_compilation.py:139\u001B[0m, in \u001B[0;36mcall_function\u001B[1;34m(args, kwargs, tracing_options)\u001B[0m\n\u001B[0;32m    137\u001B[0m bound_args \u001B[38;5;241m=\u001B[39m function\u001B[38;5;241m.\u001B[39mfunction_type\u001B[38;5;241m.\u001B[39mbind(\u001B[38;5;241m*\u001B[39margs, \u001B[38;5;241m*\u001B[39m\u001B[38;5;241m*\u001B[39mkwargs)\n\u001B[0;32m    138\u001B[0m flat_inputs \u001B[38;5;241m=\u001B[39m function\u001B[38;5;241m.\u001B[39mfunction_type\u001B[38;5;241m.\u001B[39munpack_inputs(bound_args)\n\u001B[1;32m--> 139\u001B[0m \u001B[38;5;28;01mreturn\u001B[39;00m function\u001B[38;5;241m.\u001B[39m_call_flat(  \u001B[38;5;66;03m# pylint: disable=protected-access\u001B[39;00m\n\u001B[0;32m    140\u001B[0m     flat_inputs, captured_inputs\u001B[38;5;241m=\u001B[39mfunction\u001B[38;5;241m.\u001B[39mcaptured_inputs\n\u001B[0;32m    141\u001B[0m )\n",
      "File \u001B[1;32m~\\anaconda3\\envs\\recommender-systems-project\\Lib\\site-packages\\tensorflow\\python\\eager\\polymorphic_function\\concrete_function.py:1322\u001B[0m, in \u001B[0;36mConcreteFunction._call_flat\u001B[1;34m(self, tensor_inputs, captured_inputs)\u001B[0m\n\u001B[0;32m   1318\u001B[0m possible_gradient_type \u001B[38;5;241m=\u001B[39m gradients_util\u001B[38;5;241m.\u001B[39mPossibleTapeGradientTypes(args)\n\u001B[0;32m   1319\u001B[0m \u001B[38;5;28;01mif\u001B[39;00m (possible_gradient_type \u001B[38;5;241m==\u001B[39m gradients_util\u001B[38;5;241m.\u001B[39mPOSSIBLE_GRADIENT_TYPES_NONE\n\u001B[0;32m   1320\u001B[0m     \u001B[38;5;129;01mand\u001B[39;00m executing_eagerly):\n\u001B[0;32m   1321\u001B[0m   \u001B[38;5;66;03m# No tape is watching; skip to running the function.\u001B[39;00m\n\u001B[1;32m-> 1322\u001B[0m   \u001B[38;5;28;01mreturn\u001B[39;00m \u001B[38;5;28mself\u001B[39m\u001B[38;5;241m.\u001B[39m_inference_function\u001B[38;5;241m.\u001B[39mcall_preflattened(args)\n\u001B[0;32m   1323\u001B[0m forward_backward \u001B[38;5;241m=\u001B[39m \u001B[38;5;28mself\u001B[39m\u001B[38;5;241m.\u001B[39m_select_forward_and_backward_functions(\n\u001B[0;32m   1324\u001B[0m     args,\n\u001B[0;32m   1325\u001B[0m     possible_gradient_type,\n\u001B[0;32m   1326\u001B[0m     executing_eagerly)\n\u001B[0;32m   1327\u001B[0m forward_function, args_with_tangents \u001B[38;5;241m=\u001B[39m forward_backward\u001B[38;5;241m.\u001B[39mforward()\n",
      "File \u001B[1;32m~\\anaconda3\\envs\\recommender-systems-project\\Lib\\site-packages\\tensorflow\\python\\eager\\polymorphic_function\\atomic_function.py:216\u001B[0m, in \u001B[0;36mAtomicFunction.call_preflattened\u001B[1;34m(self, args)\u001B[0m\n\u001B[0;32m    214\u001B[0m \u001B[38;5;28;01mdef\u001B[39;00m \u001B[38;5;21mcall_preflattened\u001B[39m(\u001B[38;5;28mself\u001B[39m, args: Sequence[core\u001B[38;5;241m.\u001B[39mTensor]) \u001B[38;5;241m-\u001B[39m\u001B[38;5;241m>\u001B[39m Any:\n\u001B[0;32m    215\u001B[0m \u001B[38;5;250m  \u001B[39m\u001B[38;5;124;03m\"\"\"Calls with flattened tensor inputs and returns the structured output.\"\"\"\u001B[39;00m\n\u001B[1;32m--> 216\u001B[0m   flat_outputs \u001B[38;5;241m=\u001B[39m \u001B[38;5;28mself\u001B[39m\u001B[38;5;241m.\u001B[39mcall_flat(\u001B[38;5;241m*\u001B[39margs)\n\u001B[0;32m    217\u001B[0m   \u001B[38;5;28;01mreturn\u001B[39;00m \u001B[38;5;28mself\u001B[39m\u001B[38;5;241m.\u001B[39mfunction_type\u001B[38;5;241m.\u001B[39mpack_output(flat_outputs)\n",
      "File \u001B[1;32m~\\anaconda3\\envs\\recommender-systems-project\\Lib\\site-packages\\tensorflow\\python\\eager\\polymorphic_function\\atomic_function.py:251\u001B[0m, in \u001B[0;36mAtomicFunction.call_flat\u001B[1;34m(self, *args)\u001B[0m\n\u001B[0;32m    249\u001B[0m \u001B[38;5;28;01mwith\u001B[39;00m record\u001B[38;5;241m.\u001B[39mstop_recording():\n\u001B[0;32m    250\u001B[0m   \u001B[38;5;28;01mif\u001B[39;00m \u001B[38;5;28mself\u001B[39m\u001B[38;5;241m.\u001B[39m_bound_context\u001B[38;5;241m.\u001B[39mexecuting_eagerly():\n\u001B[1;32m--> 251\u001B[0m     outputs \u001B[38;5;241m=\u001B[39m \u001B[38;5;28mself\u001B[39m\u001B[38;5;241m.\u001B[39m_bound_context\u001B[38;5;241m.\u001B[39mcall_function(\n\u001B[0;32m    252\u001B[0m         \u001B[38;5;28mself\u001B[39m\u001B[38;5;241m.\u001B[39mname,\n\u001B[0;32m    253\u001B[0m         \u001B[38;5;28mlist\u001B[39m(args),\n\u001B[0;32m    254\u001B[0m         \u001B[38;5;28mlen\u001B[39m(\u001B[38;5;28mself\u001B[39m\u001B[38;5;241m.\u001B[39mfunction_type\u001B[38;5;241m.\u001B[39mflat_outputs),\n\u001B[0;32m    255\u001B[0m     )\n\u001B[0;32m    256\u001B[0m   \u001B[38;5;28;01melse\u001B[39;00m:\n\u001B[0;32m    257\u001B[0m     outputs \u001B[38;5;241m=\u001B[39m make_call_op_in_graph(\n\u001B[0;32m    258\u001B[0m         \u001B[38;5;28mself\u001B[39m,\n\u001B[0;32m    259\u001B[0m         \u001B[38;5;28mlist\u001B[39m(args),\n\u001B[0;32m    260\u001B[0m         \u001B[38;5;28mself\u001B[39m\u001B[38;5;241m.\u001B[39m_bound_context\u001B[38;5;241m.\u001B[39mfunction_call_options\u001B[38;5;241m.\u001B[39mas_attrs(),\n\u001B[0;32m    261\u001B[0m     )\n",
      "File \u001B[1;32m~\\anaconda3\\envs\\recommender-systems-project\\Lib\\site-packages\\tensorflow\\python\\eager\\context.py:1552\u001B[0m, in \u001B[0;36mContext.call_function\u001B[1;34m(self, name, tensor_inputs, num_outputs)\u001B[0m\n\u001B[0;32m   1550\u001B[0m cancellation_context \u001B[38;5;241m=\u001B[39m cancellation\u001B[38;5;241m.\u001B[39mcontext()\n\u001B[0;32m   1551\u001B[0m \u001B[38;5;28;01mif\u001B[39;00m cancellation_context \u001B[38;5;129;01mis\u001B[39;00m \u001B[38;5;28;01mNone\u001B[39;00m:\n\u001B[1;32m-> 1552\u001B[0m   outputs \u001B[38;5;241m=\u001B[39m execute\u001B[38;5;241m.\u001B[39mexecute(\n\u001B[0;32m   1553\u001B[0m       name\u001B[38;5;241m.\u001B[39mdecode(\u001B[38;5;124m\"\u001B[39m\u001B[38;5;124mutf-8\u001B[39m\u001B[38;5;124m\"\u001B[39m),\n\u001B[0;32m   1554\u001B[0m       num_outputs\u001B[38;5;241m=\u001B[39mnum_outputs,\n\u001B[0;32m   1555\u001B[0m       inputs\u001B[38;5;241m=\u001B[39mtensor_inputs,\n\u001B[0;32m   1556\u001B[0m       attrs\u001B[38;5;241m=\u001B[39mattrs,\n\u001B[0;32m   1557\u001B[0m       ctx\u001B[38;5;241m=\u001B[39m\u001B[38;5;28mself\u001B[39m,\n\u001B[0;32m   1558\u001B[0m   )\n\u001B[0;32m   1559\u001B[0m \u001B[38;5;28;01melse\u001B[39;00m:\n\u001B[0;32m   1560\u001B[0m   outputs \u001B[38;5;241m=\u001B[39m execute\u001B[38;5;241m.\u001B[39mexecute_with_cancellation(\n\u001B[0;32m   1561\u001B[0m       name\u001B[38;5;241m.\u001B[39mdecode(\u001B[38;5;124m\"\u001B[39m\u001B[38;5;124mutf-8\u001B[39m\u001B[38;5;124m\"\u001B[39m),\n\u001B[0;32m   1562\u001B[0m       num_outputs\u001B[38;5;241m=\u001B[39mnum_outputs,\n\u001B[1;32m   (...)\u001B[0m\n\u001B[0;32m   1566\u001B[0m       cancellation_manager\u001B[38;5;241m=\u001B[39mcancellation_context,\n\u001B[0;32m   1567\u001B[0m   )\n",
      "File \u001B[1;32m~\\anaconda3\\envs\\recommender-systems-project\\Lib\\site-packages\\tensorflow\\python\\eager\\execute.py:53\u001B[0m, in \u001B[0;36mquick_execute\u001B[1;34m(op_name, num_outputs, inputs, attrs, ctx, name)\u001B[0m\n\u001B[0;32m     51\u001B[0m \u001B[38;5;28;01mtry\u001B[39;00m:\n\u001B[0;32m     52\u001B[0m   ctx\u001B[38;5;241m.\u001B[39mensure_initialized()\n\u001B[1;32m---> 53\u001B[0m   tensors \u001B[38;5;241m=\u001B[39m pywrap_tfe\u001B[38;5;241m.\u001B[39mTFE_Py_Execute(ctx\u001B[38;5;241m.\u001B[39m_handle, device_name, op_name,\n\u001B[0;32m     54\u001B[0m                                       inputs, attrs, num_outputs)\n\u001B[0;32m     55\u001B[0m \u001B[38;5;28;01mexcept\u001B[39;00m core\u001B[38;5;241m.\u001B[39m_NotOkStatusException \u001B[38;5;28;01mas\u001B[39;00m e:\n\u001B[0;32m     56\u001B[0m   \u001B[38;5;28;01mif\u001B[39;00m name \u001B[38;5;129;01mis\u001B[39;00m \u001B[38;5;129;01mnot\u001B[39;00m \u001B[38;5;28;01mNone\u001B[39;00m:\n",
      "\u001B[1;31mKeyboardInterrupt\u001B[0m: "
     ]
    }
   ],
   "source": [
    "\n",
    "\n",
    "# \n",
    "# # Splitting the data\n",
    "# train, test = train_test_split(data, test_size=0.2, random_state=42)\n",
    "# \n",
    "# # Defining input layers for all features\n",
    "# user_input = Input(shape=(1,), name='user_input')\n",
    "# media_input = Input(shape=(1,), name='media_input')\n",
    "# album_input = Input(shape=(1,), name='album_input')\n",
    "# artist_input = Input(shape=(1,), name='artist_input')\n",
    "# genre_input = Input(shape=(1,), name='genre_input')\n",
    "# user_gender_input = Input(shape=(1,), name='user_gender_input')\n",
    "# user_age_input = Input(shape=(1,), name='user_age_input')\n",
    "# platform_name_input = Input(shape=(1,), name='platform_name_input')\n",
    "# platform_family_input = Input(shape=(1,), name='platform_family_input')\n",
    "# context_type_input = Input(shape=(1,), name='context_type_input')\n",
    "# media_duration_input = Input(shape=(1,), name='media_duration_input')\n",
    "# release_date_input = Input(shape=(1,), name='release_date_input')\n",
    "# listen_type_input = Input(shape=(1,), name='listen_type_input')\n",
    "# \n",
    "# # Embedding layers for user and media, and other categorical variables with regularization\n",
    "# user_embedding = Embedding(input_dim=data['user_id'].nunique(), output_dim=50, name='user_embedding', embeddings_regularizer=l2(0.01))(user_input)\n",
    "# media_embedding = Embedding(input_dim=data['media_id'].nunique(), output_dim=50, name='media_embedding', embeddings_regularizer=l2(0.01))(media_input)\n",
    "# album_embedding = Embedding(input_dim=data['album_id'].nunique(), output_dim=20, name='album_embedding', embeddings_regularizer=l2(0.01))(album_input)\n",
    "# artist_embedding = Embedding(input_dim=data['artist_id'].nunique(), output_dim=30, name='artist_embedding', embeddings_regularizer=l2(0.01))(artist_input)\n",
    "# genre_embedding = Embedding(input_dim=data['genre_id'].nunique(), output_dim=20, name='genre_embedding', embeddings_regularizer=l2(0.01))(genre_input)\n",
    "# platform_name_embedding = Embedding(input_dim=data['platform_name'].nunique(), output_dim=10, name='platform_name_embedding', embeddings_regularizer=l2(0.01))(platform_name_input)\n",
    "# platform_family_embedding = Embedding(input_dim=data['platform_family'].nunique(), output_dim=10, name='platform_family_embedding', embeddings_regularizer=l2(0.01))(platform_family_input)\n",
    "# context_type_embedding = Embedding(input_dim=data['context_type'].nunique(), output_dim=10, name='context_type_embedding', embeddings_regularizer=l2(0.01))(context_type_input)\n",
    "# \n",
    "# # Flatten embeddings\n",
    "# user_vec = Flatten()(user_embedding)\n",
    "# media_vec = Flatten()(media_embedding)\n",
    "# album_vec = Flatten()(album_embedding)\n",
    "# artist_vec = Flatten()(artist_embedding)\n",
    "# genre_vec = Flatten()(genre_embedding)\n",
    "# platform_name_vec = Flatten()(platform_name_embedding)\n",
    "# platform_family_vec = Flatten()(platform_family_embedding)\n",
    "# context_type_vec = Flatten()(context_type_embedding)\n",
    "# \n",
    "# # Concatenate all features\n",
    "# concat = Concatenate()([\n",
    "#     user_vec, media_vec, album_vec, artist_vec, genre_vec, \n",
    "#     platform_name_vec, platform_family_vec, context_type_vec, \n",
    "#     user_gender_input, user_age_input, media_duration_input, \n",
    "#     release_date_input, listen_type_input\n",
    "# ])\n",
    "# \n",
    "# # Add dense layers with increased dropout and L2 regularization\n",
    "# dense = Dense(256, activation='relu', kernel_regularizer=l2(0.01))(concat)\n",
    "# dense = Dropout(0.5)(dense)\n",
    "# dense = Dense(128, activation='relu', kernel_regularizer=l2(0.01))(dense)\n",
    "# dense = Dropout(0.5)(dense)\n",
    "# output = Dense(1, activation='sigmoid')(dense)\n",
    "# \n",
    "# # Build and compile the model with a lower learning rate and gradient clipping\n",
    "# optimizer = tf.keras.optimizers.Adam(learning_rate=0.001)\n",
    "# model = Model(inputs=[\n",
    "#     user_input, media_input, album_input, artist_input, genre_input, \n",
    "#     user_gender_input, user_age_input, platform_name_input, platform_family_input, \n",
    "#     context_type_input, media_duration_input, release_date_input, listen_type_input\n",
    "# ], outputs=output)\n",
    "# model.compile(optimizer=optimizer, loss='binary_crossentropy', metrics=['accuracy'])\n",
    "# \n",
    "# # Convert training data to NumPy arrays and ensure correct dtype\n",
    "# X_train = [\n",
    "#     np.array(train['user_id'], dtype=np.int32), np.array(train['media_id'], dtype=np.int32), \n",
    "#     np.array(train['album_id'], dtype=np.int32), np.array(train['artist_id'], dtype=np.int32), \n",
    "#     np.array(train['genre_id'], dtype=np.int32), np.array(train['user_gender'], dtype=np.int32), \n",
    "#     np.array(train['user_age'], dtype=np.float32), np.array(train['platform_name'], dtype=np.int32), \n",
    "#     np.array(train['platform_family'], dtype=np.int32), np.array(train['context_type'], dtype=np.int32), \n",
    "#     np.array(train['media_duration'], dtype=np.float32), np.array(train['release_date'], dtype=np.float32), \n",
    "#     np.array(train['listen_type'], dtype=np.int32)\n",
    "# ]\n",
    "# y_train = np.array(train['is_listened'], dtype=np.float32)\n",
    "# \n",
    "# # Convert testing data to NumPy arrays and ensure correct dtype\n",
    "# X_test = [\n",
    "#     np.array(test['user_id'], dtype=np.int32), np.array(test['media_id'], dtype=np.int32), \n",
    "#     np.array(test['album_id'], dtype=np.int32), np.array(test['artist_id'], dtype=np.int32), \n",
    "#     np.array(test['genre_id'], dtype=np.int32), np.array(test['user_gender'], dtype=np.int32), \n",
    "#     np.array(test['user_age'], dtype=np.float32), np.array(test['platform_name'], dtype=np.int32), \n",
    "#     np.array(test['platform_family'], dtype=np.int32), np.array(test['context_type'], dtype=np.int32), \n",
    "#     np.array(test['media_duration'], dtype=np.float32), np.array(test['release_date'], dtype=np.float32), \n",
    "#     np.array(test['listen_type'], dtype=np.int32)\n",
    "# ]\n",
    "# y_test = np.array(test['is_listened'], dtype=np.float32)\n",
    "# \n",
    "# # Train the model\n",
    "# model.fit(X_train, y_train, epochs=5, batch_size=512, validation_data=(X_test, y_test))\n"
   ],
   "metadata": {
    "collapsed": false,
    "ExecuteTime": {
     "end_time": "2024-08-29T14:11:14.956266Z",
     "start_time": "2024-08-29T14:10:54.843446Z"
    }
   },
   "id": "bee4597b68ba9b02",
   "execution_count": 13
  },
  {
   "cell_type": "code",
   "outputs": [],
   "source": [],
   "metadata": {
    "collapsed": false
   },
   "id": "a77f12c4fda500fe"
  },
  {
   "cell_type": "code",
   "outputs": [],
   "source": [],
   "metadata": {
    "collapsed": false
   },
   "id": "141b6a24552f6a40"
  },
  {
   "cell_type": "markdown",
   "source": [
    "### 1. Accuracy:\n",
    "- **Definition**: Accuracy is the percentage of correct predictions made by the model out of all predictions made.\n",
    "- **Formula**:\n",
    "$$\n",
    "\\text{Accuracy} = \\frac{\\text{Number of Correct Predictions}}{\\text{Total Number of Predictions}} \\times 100\n",
    "$$\n",
    "\n",
    "- **During Training**: This measures how well the model is performing on the training data, giving an indication of how much the model is learning from the training data.\n",
    "\n",
    "### 2. Loss:\n",
    "- **Definition**: Loss is a measure of how well the model’s predictions match the actual labels. It quantifies the difference between the predicted values and the actual values.\n",
    "- **Common Loss Functions**:\n",
    "  - **Binary Crossentropy**: Often used in binary classification problems (like predicting `0` or `1`).\n",
    "  - **Mean Squared Error (MSE)**: Often used in regression problems.\n",
    "- **During Training**: The loss is calculated after each forward pass of the model, and the model's weights are adjusted to minimize this loss. A lower loss indicates a better fit of the model to the data.\n",
    "\n",
    "### 3. Validation Accuracy (val_accuracy):\n",
    "- **Definition**: Validation accuracy is the accuracy calculated on a separate dataset (the validation set) that is not used for training but for monitoring the model’s performance during training.\n",
    "- **Purpose**: This metric helps in assessing how well the model generalizes to new, unseen data. It's a key indicator of whether the model is overfitting (performing well on the training data but poorly on unseen data).\n",
    "\n",
    "### 4. Validation Loss (val_loss):\n",
    "- **Definition**: Validation loss is the loss calculated on the validation dataset. Like validation accuracy, it is used to monitor the model's performance on unseen data.\n",
    "- **Purpose**: A decreasing validation loss indicates that the model is generalizing well to new data. If the validation loss starts to increase while the training loss continues to decrease, it may be a sign of overfitting.\n"
   ],
   "metadata": {
    "collapsed": false
   },
   "id": "75069671b943ef6"
  },
  {
   "cell_type": "code",
   "outputs": [],
   "source": [],
   "metadata": {
    "collapsed": false
   },
   "id": "b4148442cbc90c9e"
  }
 ],
 "metadata": {
  "kernelspec": {
   "display_name": "Python 3",
   "language": "python",
   "name": "python3"
  },
  "language_info": {
   "codemirror_mode": {
    "name": "ipython",
    "version": 2
   },
   "file_extension": ".py",
   "mimetype": "text/x-python",
   "name": "python",
   "nbconvert_exporter": "python",
   "pygments_lexer": "ipython2",
   "version": "2.7.6"
  }
 },
 "nbformat": 4,
 "nbformat_minor": 5
}
