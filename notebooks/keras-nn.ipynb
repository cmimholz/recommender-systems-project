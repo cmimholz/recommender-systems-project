{
 "cells": [
  {
   "cell_type": "code",
   "execution_count": null,
   "metadata": {},
   "outputs": [],
   "source": []
  },
  {
   "cell_type": "markdown",
   "metadata": {},
   "source": [
    "https://www.youtube.com/watch?v=0DmFFJ1aF2U\n",
    "\n",
    "Problem: Rank the songs\n",
    "For each listener we will give a score to each song and then rank the song accordingly. \n",
    "We'll know out model is doing a good job if it ranks listened items at the top\n",
    "\n",
    "The Model is using Matrix Factorization -> User and product Vectors\n",
    "At the beginning the model uses random wheits and checks the loss function. Whit gradient descent, the model wheights and baieses are optimized.\n",
    "\n",
    "User vector caputres \"user taste\": This would capture a user's music preferences. It could include information such as:\n",
    "- Favorite genres (e.g., pop, rock, jazz).\n",
    "- Preferred artists or bands.\n",
    "- Listening habits (e.g., time of day, mood-based playlists, or specific activities like studying or working out).\n",
    "- Frequency of listening and the variety of tracks they explore (do they repeat tracks or explore new ones?).\n",
    "\n",
    "Song vector caputres \"song style\":The \"product vector\" would represent the characteristics of the song, such as (//TODO:We already have this. Check how to include):\n",
    "- Genre (e.g., rock, EDM, hip-hop).\n",
    "- Mood or tempo (e.g., upbeat, melancholic, energetic).\n",
    "- Artists, featuring musicians, or bands.\n",
    "- Release year or popularity (new hits or classics).\n",
    "- Song length or structure (instrumental, acoustic, remixes).\n",
    "\n"
   ]
  },
  {
   "cell_type": "markdown",
   "metadata": {},
   "source": []
  }
 ],
 "metadata": {
  "language_info": {
   "name": "python"
  }
 },
 "nbformat": 4,
 "nbformat_minor": 2
}
