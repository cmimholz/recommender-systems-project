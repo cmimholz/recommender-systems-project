{
 "cells": [
  {
   "cell_type": "code",
   "execution_count": 8,
   "id": "initial_id",
   "metadata": {
    "collapsed": true,
    "ExecuteTime": {
     "end_time": "2024-08-26T13:46:07.683749Z",
     "start_time": "2024-08-26T13:45:57.926526Z"
    }
   },
   "outputs": [
    {
     "name": "stdout",
     "output_type": "stream",
     "text": [
      "Sampled data saved to ../data/sampled_train.csv\n"
     ]
    }
   ],
   "source": [
    "import pandas as pd\n",
    "\n",
    "# Set the random seed for reproducibility\n",
    "random_seed = 42\n",
    "\n",
    "# Load the full dataset\n",
    "file_path = '../data/raw_data/train.csv'  # Update this with the path to your file\n",
    "data = pd.read_csv(file_path)\n",
    "\n",
    "# Define the sample size (e.g., 1% of the dataset)\n",
    "sample_size = 0.19  # This means 1% of the data\n",
    "\n",
    "# Generate a random sample of the dataset\n",
    "sampled_data = data.sample(frac=sample_size, random_state=random_seed)\n",
    "\n",
    "# Save the sample to a new CSV file\n",
    "sampled_file_path = '../data/sampled_train.csv'\n",
    "sampled_data.to_csv(sampled_file_path, index=False)\n",
    "\n",
    "print(f'Sampled data saved to {sampled_file_path}')\n"
   ]
  }
 ],
 "metadata": {
  "kernelspec": {
   "display_name": "Python 3",
   "language": "python",
   "name": "python3"
  },
  "language_info": {
   "codemirror_mode": {
    "name": "ipython",
    "version": 2
   },
   "file_extension": ".py",
   "mimetype": "text/x-python",
   "name": "python",
   "nbconvert_exporter": "python",
   "pygments_lexer": "ipython2",
   "version": "2.7.6"
  }
 },
 "nbformat": 4,
 "nbformat_minor": 5
}
